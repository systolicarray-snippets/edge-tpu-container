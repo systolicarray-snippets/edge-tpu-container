{
 "cells": [
  {
   "cell_type": "code",
   "execution_count": null,
   "metadata": {},
   "outputs": [],
   "source": [
    "# download models and examples\n",
    "!bash /coral/pycoral/examples/install_requirements.sh classify_image.py"
   ]
  },
  {
   "cell_type": "code",
   "execution_count": 7,
   "metadata": {},
   "outputs": [],
   "source": [
    "import argparse\n",
    "import time\n",
    "\n",
    "import numpy as np\n",
    "from PIL import Image\n",
    "from pycoral.adapters import classify\n",
    "from pycoral.adapters import common\n",
    "from pycoral.utils.dataset import read_label_file\n",
    "from pycoral.utils.edgetpu import make_interpreter"
   ]
  },
  {
   "cell_type": "code",
   "execution_count": 10,
   "metadata": {},
   "outputs": [],
   "source": [
    "labels = read_label_file(\"/coral/pycoral/test_data/inat_bird_labels.txt\")\n",
    "interpreter = make_interpreter(\"/coral/pycoral/test_data/mobilenet_v2_1.0_224_inat_bird_quant_edgetpu.tflite\")\n",
    "interpreter.allocate_tensors()"
   ]
  },
  {
   "cell_type": "code",
   "execution_count": null,
   "metadata": {},
   "outputs": [],
   "source": [
    "\n",
    "# Model must be uint8 quantized\n",
    "if common.input_details(interpreter, 'dtype') != np.uint8:\n",
    "  raise ValueError('Only support uint8 input type.')\n",
    "\n",
    "size = common.input_size(interpreter)\n",
    "image = Image.open(\"/coral/pycoral/test_data/parrot.jpg\").convert('RGB').resize(size, Image.LANCZOS)\n",
    "\n",
    "params = common.input_details(interpreter, 'quantization_parameters')\n",
    "scale = params['scales']\n",
    "zero_point = params['zero_points']\n",
    "mean = 128.0\n",
    "std = 128.0\n",
    "\n",
    "if abs(scale * std - 1) < 1e-5 and abs(mean - zero_point) < 1e-5:\n",
    "  # Input data does not require preprocessing.\n",
    "  common.set_input(interpreter, image)\n",
    "else:\n",
    "  # Input data requires preprocessing\n",
    "  normalized_input = (np.asarray(image) - mean) / (std * scale) + zero_point\n",
    "  np.clip(normalized_input, 0, 255, out=normalized_input)\n",
    "  common.set_input(interpreter, normalized_input.astype(np.uint8))\n",
    "\n",
    "# Run inference\n",
    "print('----INFERENCE TIME----')\n",
    "print('Note: The first inference on Edge TPU is slow because it includes',\n",
    "      'loading the model into Edge TPU memory.')\n",
    "latency = []\n",
    "for _ in range(1_000_000):\n",
    "  #start = time.perf_counter()\n",
    "  interpreter.invoke()\n",
    "  #inference_time = time.perf_counter() - start\n",
    "  classes = classify.get_classes(interpreter, 1, 0.0)\n",
    "  #latency.append('%.1fms' % (inference_time * 1000))\n",
    "  #print('%.1fms' % (inference_time * 1000))\n",
    "\n",
    "print('-------RESULTS--------')\n",
    "for c in classes:\n",
    "  print('%s: %.5f' % (labels.get(c.id, c.id), c.score))\n"
   ]
  },
  {
   "cell_type": "code",
   "execution_count": null,
   "metadata": {},
   "outputs": [],
   "source": []
  },
  {
   "cell_type": "code",
   "execution_count": null,
   "metadata": {},
   "outputs": [],
   "source": []
  }
 ],
 "metadata": {
  "kernelspec": {
   "display_name": "Python 3",
   "language": "python",
   "name": "python3"
  },
  "language_info": {
   "codemirror_mode": {
    "name": "ipython",
    "version": 3
   },
   "file_extension": ".py",
   "mimetype": "text/x-python",
   "name": "python",
   "nbconvert_exporter": "python",
   "pygments_lexer": "ipython3",
   "version": "3.9.2"
  }
 },
 "nbformat": 4,
 "nbformat_minor": 2
}
